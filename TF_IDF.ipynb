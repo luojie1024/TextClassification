{
  "nbformat": 4,
  "nbformat_minor": 0,
  "metadata": {
    "colab": {
      "name": "TF-IDF.ipynb",
      "provenance": [],
      "collapsed_sections": [],
      "authorship_tag": "ABX9TyOaIOl62otAHl4BKDoOJ+Jc",
      "include_colab_link": true
    },
    "kernelspec": {
      "name": "python3",
      "display_name": "Python 3"
    },
    "language_info": {
      "name": "python"
    }
  },
  "cells": [
    {
      "cell_type": "markdown",
      "metadata": {
        "id": "view-in-github",
        "colab_type": "text"
      },
      "source": [
        "<a href=\"https://colab.research.google.com/github/luojie1024/TextClassification/blob/main/TF_IDF.ipynb\" target=\"_parent\"><img src=\"https://colab.research.google.com/assets/colab-badge.svg\" alt=\"Open In Colab\"/></a>"
      ]
    },
    {
      "cell_type": "markdown",
      "metadata": {
        "id": "EENAByhXVA8r"
      },
      "source": [
        "# 词频-逆文件频率(TF-IDF) "
      ]
    },
    {
      "cell_type": "markdown",
      "metadata": {
        "id": "VvvXAaKMWQ2o"
      },
      "source": [
        "## 1. 手动实现（IF-IDF）"
      ]
    },
    {
      "cell_type": "markdown",
      "metadata": {
        "id": "qxuk3H4VWirh"
      },
      "source": [
        "### 1.1 语料准备"
      ]
    },
    {
      "cell_type": "code",
      "metadata": {
        "colab": {
          "base_uri": "https://localhost:8080/"
        },
        "id": "lf5VZLFYVGhP",
        "outputId": "b0099e51-eaa1-42d8-9db0-1eda075e3699"
      },
      "source": [
        "# 语料\n",
        "corpus = ['this is the first document',\n",
        "        'this is the second second document',\n",
        "        'and the third one',\n",
        "        'is this the first document']\n",
        "# 词袋\n",
        "words_list = list()\n",
        "\n",
        "for i in range(len(corpus)):\n",
        "  # 分词,ps:英文用空格分隔\n",
        "  words_list.append(corpus[i].split(' '))\n",
        "\n",
        "print(words_list)"
      ],
      "execution_count": null,
      "outputs": [
        {
          "output_type": "stream",
          "text": [
            "[['this', 'is', 'the', 'first', 'document'], ['this', 'is', 'the', 'second', 'second', 'document'], ['and', 'the', 'third', 'one'], ['is', 'this', 'the', 'first', 'document']]\n"
          ],
          "name": "stdout"
        },
        {
          "output_type": "execute_result",
          "data": {
            "text/plain": [
              "[['this', 'is', 'the', 'first', 'document'],\n",
              " ['this', 'is', 'the', 'second', 'second', 'document'],\n",
              " ['and', 'the', 'third', 'one'],\n",
              " ['is', 'this', 'the', 'first', 'document']]"
            ]
          },
          "metadata": {
            "tags": []
          },
          "execution_count": 1
        }
      ]
    },
    {
      "cell_type": "markdown",
      "metadata": {
        "id": "fIMjfr95VotT"
      },
      "source": [
        "### 1.2 统计词语数量\n"
      ]
    },
    {
      "cell_type": "code",
      "metadata": {
        "colab": {
          "base_uri": "https://localhost:8080/"
        },
        "id": "goAe_ZN3VKKl",
        "outputId": "3e0837d6-e3ec-4e1a-db59-eb3e59330783"
      },
      "source": [
        "from collections import Counter\n",
        "\n",
        "# 词频统计\n",
        "count_list = list()\n",
        "\n",
        "# 遍历语料\n",
        "for i in range(len(words_list)):\n",
        "    # 统计词频\n",
        "    count = Counter(words_list[i])\n",
        "    # 词频列表\n",
        "    count_list.append(count)\n",
        "print(count_list)"
      ],
      "execution_count": null,
      "outputs": [
        {
          "output_type": "stream",
          "text": [
            "[Counter({'this': 1, 'is': 1, 'the': 1, 'first': 1, 'document': 1}), Counter({'second': 2, 'this': 1, 'is': 1, 'the': 1, 'document': 1}), Counter({'and': 1, 'the': 1, 'third': 1, 'one': 1}), Counter({'is': 1, 'this': 1, 'the': 1, 'first': 1, 'document': 1})]\n"
          ],
          "name": "stdout"
        }
      ]
    },
    {
      "cell_type": "markdown",
      "metadata": {
        "id": "x2eDclG_V8sG"
      },
      "source": [
        "### 1.3 定义函数\n"
      ]
    },
    {
      "cell_type": "code",
      "metadata": {
        "id": "Iq3goqbIVqYR"
      },
      "source": [
        "import math\n",
        "def tf(word, count):\n",
        "    return count[word] / sum(count.values())\n",
        "\n",
        "\n",
        "def idf(word, count_list):\n",
        "    n_contain = sum([1 for count in count_list if word in count])\n",
        "    return math.log(len(count_list) / (1 + n_contain))\n",
        "\n",
        "\n",
        "def tf_idf(word, count, count_list):\n",
        "    return tf(word, count) * idf(word, count_list)"
      ],
      "execution_count": null,
      "outputs": []
    },
    {
      "cell_type": "markdown",
      "metadata": {
        "id": "7odTzS1UWGVt"
      },
      "source": [
        "### 1.4 输出结果"
      ]
    },
    {
      "cell_type": "code",
      "metadata": {
        "colab": {
          "base_uri": "https://localhost:8080/"
        },
        "id": "9Bb0QvOUV-NR",
        "outputId": "1e3c822e-0f4f-475a-8a46-47bfbd8e4c63"
      },
      "source": [
        "for i, count in enumerate(count_list):\n",
        "    print(\"第 {} 个文档 TF-IDF 统计信息\".format(i + 1))\n",
        "    scores = {word : tf_idf(word, count, count_list) for word in count}\n",
        "    sorted_word = sorted(scores.items(), key = lambda x : x[1], reverse=True)\n",
        "    for word, score in sorted_word:\n",
        "        print(\"\\tword: {}, TF-IDF: {}\".format(word, round(score, 5)))"
      ],
      "execution_count": null,
      "outputs": [
        {
          "output_type": "stream",
          "text": [
            "第 1 个文档 TF-IDF 统计信息\n",
            "\tword: first, TF-IDF: 0.05754\n",
            "\tword: this, TF-IDF: 0.0\n",
            "\tword: is, TF-IDF: 0.0\n",
            "\tword: document, TF-IDF: 0.0\n",
            "\tword: the, TF-IDF: -0.04463\n",
            "第 2 个文档 TF-IDF 统计信息\n",
            "\tword: second, TF-IDF: 0.23105\n",
            "\tword: this, TF-IDF: 0.0\n",
            "\tword: is, TF-IDF: 0.0\n",
            "\tword: document, TF-IDF: 0.0\n",
            "\tword: the, TF-IDF: -0.03719\n",
            "第 3 个文档 TF-IDF 统计信息\n",
            "\tword: and, TF-IDF: 0.17329\n",
            "\tword: third, TF-IDF: 0.17329\n",
            "\tword: one, TF-IDF: 0.17329\n",
            "\tword: the, TF-IDF: -0.05579\n",
            "第 4 个文档 TF-IDF 统计信息\n",
            "\tword: first, TF-IDF: 0.05754\n",
            "\tword: is, TF-IDF: 0.0\n",
            "\tword: this, TF-IDF: 0.0\n",
            "\tword: document, TF-IDF: 0.0\n",
            "\tword: the, TF-IDF: -0.04463\n"
          ],
          "name": "stdout"
        }
      ]
    },
    {
      "cell_type": "markdown",
      "metadata": {
        "id": "KBxLXNBfWwbZ"
      },
      "source": [
        "## 2. Gensim实现"
      ]
    },
    {
      "cell_type": "code",
      "metadata": {
        "colab": {
          "base_uri": "https://localhost:8080/"
        },
        "id": "xH3ORbmZW6x5",
        "outputId": "8772718f-7c0e-45dc-b9d6-5b5e5d4838e6"
      },
      "source": [
        "words_list"
      ],
      "execution_count": null,
      "outputs": [
        {
          "output_type": "execute_result",
          "data": {
            "text/plain": [
              "[['this', 'is', 'the', 'first', 'document'],\n",
              " ['this', 'is', 'the', 'second', 'second', 'document'],\n",
              " ['and', 'the', 'third', 'one'],\n",
              " ['is', 'this', 'the', 'first', 'document']]"
            ]
          },
          "metadata": {
            "tags": []
          },
          "execution_count": 7
        }
      ]
    },
    {
      "cell_type": "markdown",
      "metadata": {
        "id": "30y9EMb8XCaJ"
      },
      "source": [
        ""
      ]
    },
    {
      "cell_type": "markdown",
      "metadata": {
        "id": "oFE7ka2iXC_q"
      },
      "source": [
        "### 2.1 获取词频"
      ]
    },
    {
      "cell_type": "code",
      "metadata": {
        "colab": {
          "base_uri": "https://localhost:8080/"
        },
        "id": "MwRICmqbWHvW",
        "outputId": "64723c3e-52fe-4686-f5e5-3d342e1e90f2"
      },
      "source": [
        "from gensim import corpora\n",
        "# 赋给语料库中每个词(不重复的词)一个整数id\n",
        "dic = corpora.Dictionary(words_list)\n",
        "new_corpus = [dic.doc2bow(words) for words in words_list]\n",
        "# 元组中第一个元素是词语在词典中对应的id，第二个元素是词语在文档中出现的次数\n",
        "print(new_corpus)"
      ],
      "execution_count": null,
      "outputs": [
        {
          "output_type": "stream",
          "text": [
            "[[(0, 1), (1, 1), (2, 1), (3, 1), (4, 1)], [(0, 1), (2, 1), (3, 1), (4, 1), (5, 2)], [(3, 1), (6, 1), (7, 1), (8, 1)], [(0, 1), (1, 1), (2, 1), (3, 1), (4, 1)]]\n"
          ],
          "name": "stdout"
        }
      ]
    },
    {
      "cell_type": "markdown",
      "metadata": {
        "id": "MD5FbqaDXNzB"
      },
      "source": [
        ""
      ]
    },
    {
      "cell_type": "markdown",
      "metadata": {
        "id": "FcNloI7bXOU6"
      },
      "source": [
        "### 2.2 查看每个词语对应的`id`"
      ]
    },
    {
      "cell_type": "code",
      "metadata": {
        "colab": {
          "base_uri": "https://localhost:8080/"
        },
        "id": "ZrQGOJQcW4iK",
        "outputId": "2f0bcb9c-68e2-4d38-a9a0-2586f62b525d"
      },
      "source": [
        "print(dic.token2id)"
      ],
      "execution_count": null,
      "outputs": [
        {
          "output_type": "stream",
          "text": [
            "{'document': 0, 'first': 1, 'is': 2, 'the': 3, 'this': 4, 'second': 5, 'and': 6, 'one': 7, 'third': 8}\n"
          ],
          "name": "stdout"
        }
      ]
    },
    {
      "cell_type": "markdown",
      "metadata": {
        "id": "fvzzEUYiXVDX"
      },
      "source": [
        "### 2.3 训练gensim模型并且保存它以便后面的使用\n"
      ]
    },
    {
      "cell_type": "code",
      "metadata": {
        "colab": {
          "base_uri": "https://localhost:8080/"
        },
        "id": "Zccvxi2CXTxn",
        "outputId": "eb9d34d9-b94a-405b-c88b-36ab29739f94"
      },
      "source": [
        "# 训练模型并保存\n",
        "from gensim import models\n",
        "tfidf = models.TfidfModel(new_corpus)\n",
        "tfidf.save(\"tfidf.model\")\n",
        "# 载入模型\n",
        "tfidf = models.TfidfModel.load(\"tfidf.model\")\n",
        "# 使用这个训练好的模型得到单词的tfidf值\n",
        "tfidf_vec = []\n",
        "for i in range(len(corpus)):\n",
        "    string = corpus[i]\n",
        "    string_bow = dic.doc2bow(string.lower().split())\n",
        "    string_tfidf = tfidf[string_bow]\n",
        "    tfidf_vec.append(string_tfidf)\n",
        "\n",
        "# 输出 词语id与词语tfidf值\n",
        "print(tfidf_vec)"
      ],
      "execution_count": null,
      "outputs": [
        {
          "output_type": "stream",
          "text": [
            "[[(0, 0.33699829595119235), (1, 0.8119707171924228), (2, 0.33699829595119235), (4, 0.33699829595119235)], [(0, 0.10212329019650272), (2, 0.10212329019650272), (4, 0.10212329019650272), (5, 0.9842319344536239)], [(6, 0.5773502691896258), (7, 0.5773502691896258), (8, 0.5773502691896258)], [(0, 0.33699829595119235), (1, 0.8119707171924228), (2, 0.33699829595119235), (4, 0.33699829595119235)]]\n"
          ],
          "name": "stdout"
        }
      ]
    },
    {
      "cell_type": "markdown",
      "metadata": {
        "id": "sPJKc_OfXioZ"
      },
      "source": [
        "### 2.4 句子输出"
      ]
    },
    {
      "cell_type": "code",
      "metadata": {
        "colab": {
          "base_uri": "https://localhost:8080/"
        },
        "id": "8IGmE3GuXd4l",
        "outputId": "d7d93d05-6442-436a-d424-7e41defc842f"
      },
      "source": [
        "# 测试一个句子\n",
        "test_words = \"i is the first one\"\n",
        "string_bow = dic.doc2bow(string.lower().split())\n",
        "string_tfidf = tfidf[string_bow]\n",
        "print(string_tfidf)"
      ],
      "execution_count": null,
      "outputs": [
        {
          "output_type": "stream",
          "text": [
            "[(0, 0.33699829595119235), (1, 0.8119707171924228), (2, 0.33699829595119235), (4, 0.33699829595119235)]\n"
          ],
          "name": "stdout"
        }
      ]
    },
    {
      "cell_type": "markdown",
      "metadata": {
        "id": "UCvbYK6CXyvl"
      },
      "source": [
        "## 3 使用 sklearn 算法包实现"
      ]
    },
    {
      "cell_type": "code",
      "metadata": {
        "colab": {
          "base_uri": "https://localhost:8080/"
        },
        "id": "xG0nLvl5Xrox",
        "outputId": "41b5fa57-b7b4-4b5c-f878-76672232c168"
      },
      "source": [
        "from sklearn.feature_extraction.text import TfidfVectorizer\n",
        "tfidf_vec = TfidfVectorizer()\n",
        "tfidf_matrix = tfidf_vec.fit_transform(corpus)\n",
        "# 得到语料库所有不重复的词\n",
        "print(tfidf_vec.get_feature_names())\n",
        "# 得到每个单词对应的id值\n",
        "print(tfidf_vec.vocabulary_)\n",
        "# 得到每个句子所对应的向量，向量里数字的顺序是按照词语的id顺序来的\n",
        "print(tfidf_matrix.toarray())"
      ],
      "execution_count": null,
      "outputs": [
        {
          "output_type": "stream",
          "text": [
            "['and', 'document', 'first', 'is', 'one', 'second', 'the', 'third', 'this']\n",
            "{'this': 8, 'is': 3, 'the': 6, 'first': 2, 'document': 1, 'second': 5, 'and': 0, 'third': 7, 'one': 4}\n",
            "[[0.         0.43877674 0.54197657 0.43877674 0.         0.\n",
            "  0.35872874 0.         0.43877674]\n",
            " [0.         0.27230147 0.         0.27230147 0.         0.85322574\n",
            "  0.22262429 0.         0.27230147]\n",
            " [0.55280532 0.         0.         0.         0.55280532 0.\n",
            "  0.28847675 0.55280532 0.        ]\n",
            " [0.         0.43877674 0.54197657 0.43877674 0.         0.\n",
            "  0.35872874 0.         0.43877674]]\n"
          ],
          "name": "stdout"
        }
      ]
    },
    {
      "cell_type": "markdown",
      "metadata": {
        "id": "7yqG56PcYI-3"
      },
      "source": [
        "# 参考\n",
        "[1] https://zh.wikipedia.org/wiki/Tf-idf\n",
        "\n",
        "[2] https://blog.csdn.net/zrc199021/article/details/53728499\n",
        "\n",
        "[3] https://www.zybuluo.com/lianjizhe/note/1212780\n",
        "\n",
        "[4] https://zhuanlan.zhihu.com/p/97273457"
      ]
    }
  ]
}