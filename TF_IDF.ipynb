{
 "cells": [
  {
   "cell_type": "markdown",
   "metadata": {
    "colab_type": "text",
    "id": "view-in-github"
   },
   "source": [
    "<a href=\"https://colab.research.google.com/github/luojie1024/TextClassification/blob/main/TF_IDF.ipynb\" target=\"_parent\"><img src=\"https://colab.research.google.com/assets/colab-badge.svg\" alt=\"Open In Colab\"/></a>"
   ]
  },
  {
   "cell_type": "markdown",
   "metadata": {
    "id": "EENAByhXVA8r"
   },
   "source": [
    "# 词频-逆文件频率(TF-IDF) "
   ]
  },
  {
   "cell_type": "markdown",
   "metadata": {
    "id": "VvvXAaKMWQ2o"
   },
   "source": [
    "## 1. 手动实现（IF-IDF）"
   ]
  },
  {
   "cell_type": "markdown",
   "metadata": {
    "id": "qxuk3H4VWirh"
   },
   "source": [
    "### 1.1 语料准备"
   ]
  },
  {
   "cell_type": "code",
   "execution_count": 23,
   "metadata": {
    "colab": {
     "base_uri": "https://localhost:8080/"
    },
    "id": "lf5VZLFYVGhP",
    "outputId": "b0099e51-eaa1-42d8-9db0-1eda075e3699"
   },
   "outputs": [
    {
     "name": "stdout",
     "output_type": "stream",
     "text": [
      "[['这', '是', '第一个', '文档'], ['这是', '第二个', '文档'], ['这是', '最后', '一个', '文档'], ['现在', '没有', '文档', '了']]\n"
     ]
    }
   ],
   "source": [
    "# 语料\n",
    "corpus = ['this is the first document',\n",
    "        'this is the second second document',\n",
    "        'and the third one',\n",
    "        'is this the first document']\n",
    "\n",
    "corpus = ['这 是 第一个 文档',\n",
    "        '这是 第二个 文档',\n",
    "        '这是 最后 一个 文档',\n",
    "        '现在 没有 文档 了']\n",
    "\n",
    "# 词袋\n",
    "words_list = list()\n",
    "\n",
    "for i in range(len(corpus)):\n",
    "  # 分词,ps:英文用空格分隔\n",
    "  words_list.append(corpus[i].split())\n",
    "\n",
    "print(words_list)"
   ]
  },
  {
   "cell_type": "markdown",
   "metadata": {
    "id": "fIMjfr95VotT"
   },
   "source": [
    "### 1.2 统计词语数量\n"
   ]
  },
  {
   "cell_type": "code",
   "execution_count": 13,
   "metadata": {
    "colab": {
     "base_uri": "https://localhost:8080/"
    },
    "id": "goAe_ZN3VKKl",
    "outputId": "3e0837d6-e3ec-4e1a-db59-eb3e59330783"
   },
   "outputs": [
    {
     "name": "stdout",
     "output_type": "stream",
     "text": [
      "[Counter({'这': 1, '是': 1, '第一个': 1, '文档': 1}), Counter({'这是': 1, '第二个': 1, '文档': 1}), Counter({'这是': 1, '最后': 1, '一个': 1, '文档': 1}), Counter({'现在': 1, '没有': 1, '文档': 1, '了': 1})]\n"
     ]
    }
   ],
   "source": [
    "from collections import Counter\n",
    "\n",
    "# 词频统计\n",
    "count_list = list()\n",
    "\n",
    "# 遍历语料\n",
    "for i in range(len(words_list)):\n",
    "    # 统计词频\n",
    "    count = Counter(words_list[i])\n",
    "    # 词频列表\n",
    "    count_list.append(count)\n",
    "print(count_list)"
   ]
  },
  {
   "cell_type": "markdown",
   "metadata": {
    "id": "x2eDclG_V8sG"
   },
   "source": [
    "### 1.3 定义函数\n"
   ]
  },
  {
   "cell_type": "code",
   "execution_count": 14,
   "metadata": {
    "id": "Iq3goqbIVqYR"
   },
   "outputs": [],
   "source": [
    "import math\n",
    "def tf(word, count):\n",
    "    return count[word] / sum(count.values())\n",
    "\n",
    "\n",
    "def idf(word, count_list):\n",
    "    n_contain = sum([1 for count in count_list if word in count])\n",
    "    return math.log(len(count_list) / (1 + n_contain))\n",
    "\n",
    "\n",
    "def tf_idf(word, count, count_list):\n",
    "    return tf(word, count) * idf(word, count_list)"
   ]
  },
  {
   "cell_type": "markdown",
   "metadata": {
    "id": "7odTzS1UWGVt"
   },
   "source": [
    "### 1.4 输出结果"
   ]
  },
  {
   "cell_type": "code",
   "execution_count": 16,
   "metadata": {
    "colab": {
     "base_uri": "https://localhost:8080/"
    },
    "id": "9Bb0QvOUV-NR",
    "outputId": "1e3c822e-0f4f-475a-8a46-47bfbd8e4c63"
   },
   "outputs": [
    {
     "name": "stdout",
     "output_type": "stream",
     "text": [
      "第 1 个文档 TF-IDF 统计信息\n",
      "\tword: 这, TF-IDF: 0.17329\n",
      "\tword: 是, TF-IDF: 0.17329\n",
      "\tword: 第一个, TF-IDF: 0.17329\n",
      "\tword: 文档, TF-IDF: -0.05579\n",
      "第 2 个文档 TF-IDF 统计信息\n",
      "\tword: 第二个, TF-IDF: 0.23105\n",
      "\tword: 这是, TF-IDF: 0.09589\n",
      "\tword: 文档, TF-IDF: -0.07438\n",
      "第 3 个文档 TF-IDF 统计信息\n",
      "\tword: 最后, TF-IDF: 0.17329\n",
      "\tword: 一个, TF-IDF: 0.17329\n",
      "\tword: 这是, TF-IDF: 0.07192\n",
      "\tword: 文档, TF-IDF: -0.05579\n",
      "第 4 个文档 TF-IDF 统计信息\n",
      "\tword: 现在, TF-IDF: 0.17329\n",
      "\tword: 没有, TF-IDF: 0.17329\n",
      "\tword: 了, TF-IDF: 0.17329\n",
      "\tword: 文档, TF-IDF: -0.05579\n"
     ]
    }
   ],
   "source": [
    "for i, count in enumerate(count_list):\n",
    "    print(\"第 {} 个文档 TF-IDF 统计信息\".format(i + 1))\n",
    "    scores = {word : tf_idf(word, count, count_list) for word in count}\n",
    "    sorted_word = sorted(scores.items(), key = lambda x : x[1], reverse=True)\n",
    "    for word, score in sorted_word:\n",
    "        print(\"\\tword: {}, TF-IDF: {}\".format(word, round(score, 5)))"
   ]
  },
  {
   "cell_type": "markdown",
   "metadata": {
    "id": "KBxLXNBfWwbZ"
   },
   "source": [
    "## 2. Gensim实现"
   ]
  },
  {
   "cell_type": "code",
   "execution_count": 17,
   "metadata": {
    "colab": {
     "base_uri": "https://localhost:8080/"
    },
    "id": "xH3ORbmZW6x5",
    "outputId": "8772718f-7c0e-45dc-b9d6-5b5e5d4838e6"
   },
   "outputs": [
    {
     "data": {
      "text/plain": [
       "[['这', '是', '第一个', '文档'],\n",
       " ['这是', '第二个', '文档'],\n",
       " ['这是', '最后', '一个', '文档'],\n",
       " ['现在', '没有', '文档', '了']]"
      ]
     },
     "execution_count": 17,
     "metadata": {},
     "output_type": "execute_result"
    }
   ],
   "source": [
    "words_list"
   ]
  },
  {
   "cell_type": "markdown",
   "metadata": {
    "id": "30y9EMb8XCaJ"
   },
   "source": []
  },
  {
   "cell_type": "markdown",
   "metadata": {
    "id": "oFE7ka2iXC_q"
   },
   "source": [
    "### 2.1 获取词频"
   ]
  },
  {
   "cell_type": "code",
   "execution_count": 18,
   "metadata": {
    "colab": {
     "base_uri": "https://localhost:8080/"
    },
    "id": "MwRICmqbWHvW",
    "outputId": "64723c3e-52fe-4686-f5e5-3d342e1e90f2"
   },
   "outputs": [
    {
     "name": "stdout",
     "output_type": "stream",
     "text": [
      "[[(0, 1), (1, 1), (2, 1), (3, 1)], [(0, 1), (4, 1), (5, 1)], [(0, 1), (5, 1), (6, 1), (7, 1)], [(0, 1), (8, 1), (9, 1), (10, 1)]]\n"
     ]
    }
   ],
   "source": [
    "from gensim import corpora\n",
    "# 赋给语料库中每个词(不重复的词)一个整数id\n",
    "dic = corpora.Dictionary(words_list)\n",
    "new_corpus = [dic.doc2bow(words) for words in words_list]\n",
    "# 元组中第一个元素是词语在词典中对应的id，第二个元素是词语在文档中出现的次数\n",
    "print(new_corpus)"
   ]
  },
  {
   "cell_type": "markdown",
   "metadata": {
    "id": "MD5FbqaDXNzB"
   },
   "source": []
  },
  {
   "cell_type": "markdown",
   "metadata": {
    "id": "FcNloI7bXOU6"
   },
   "source": [
    "### 2.2 查看每个词语对应的`id`"
   ]
  },
  {
   "cell_type": "code",
   "execution_count": 19,
   "metadata": {
    "colab": {
     "base_uri": "https://localhost:8080/"
    },
    "id": "ZrQGOJQcW4iK",
    "outputId": "2f0bcb9c-68e2-4d38-a9a0-2586f62b525d"
   },
   "outputs": [
    {
     "name": "stdout",
     "output_type": "stream",
     "text": [
      "{'文档': 0, '是': 1, '第一个': 2, '这': 3, '第二个': 4, '这是': 5, '一个': 6, '最后': 7, '了': 8, '没有': 9, '现在': 10}\n"
     ]
    }
   ],
   "source": [
    "print(dic.token2id)"
   ]
  },
  {
   "cell_type": "markdown",
   "metadata": {
    "id": "fvzzEUYiXVDX"
   },
   "source": [
    "### 2.3 训练gensim模型并且保存它以便后面的使用\n"
   ]
  },
  {
   "cell_type": "code",
   "execution_count": 20,
   "metadata": {
    "colab": {
     "base_uri": "https://localhost:8080/"
    },
    "id": "Zccvxi2CXTxn",
    "outputId": "eb9d34d9-b94a-405b-c88b-36ab29739f94"
   },
   "outputs": [
    {
     "name": "stdout",
     "output_type": "stream",
     "text": [
      "[[(1, 0.5773502691896258), (2, 0.5773502691896258), (3, 0.5773502691896258)], [(4, 0.8944271909999159), (5, 0.4472135954999579)], [(5, 0.3333333333333333), (6, 0.6666666666666666), (7, 0.6666666666666666)], [(8, 0.5773502691896258), (9, 0.5773502691896258), (10, 0.5773502691896258)]]\n"
     ]
    }
   ],
   "source": [
    "# 训练模型并保存\n",
    "from gensim import models\n",
    "tfidf = models.TfidfModel(new_corpus)\n",
    "tfidf.save(\"tfidf.model\")\n",
    "# 载入模型\n",
    "tfidf = models.TfidfModel.load(\"tfidf.model\")\n",
    "# 使用这个训练好的模型得到单词的tfidf值\n",
    "tfidf_vec = []\n",
    "for i in range(len(corpus)):\n",
    "    string = corpus[i]\n",
    "    string_bow = dic.doc2bow(string.lower().split())\n",
    "    string_tfidf = tfidf[string_bow]\n",
    "    tfidf_vec.append(string_tfidf)\n",
    "\n",
    "# 输出 词语id与词语tfidf值\n",
    "print(tfidf_vec)"
   ]
  },
  {
   "cell_type": "markdown",
   "metadata": {
    "id": "sPJKc_OfXioZ"
   },
   "source": [
    "### 2.4 句子输出"
   ]
  },
  {
   "cell_type": "code",
   "execution_count": 21,
   "metadata": {
    "colab": {
     "base_uri": "https://localhost:8080/"
    },
    "id": "8IGmE3GuXd4l",
    "outputId": "d7d93d05-6442-436a-d424-7e41defc842f"
   },
   "outputs": [
    {
     "name": "stdout",
     "output_type": "stream",
     "text": [
      "[(8, 0.5773502691896258), (9, 0.5773502691896258), (10, 0.5773502691896258)]\n"
     ]
    }
   ],
   "source": [
    "# 测试一个句子\n",
    "test_words = \"i is the first one\"\n",
    "string_bow = dic.doc2bow(string.lower().split())\n",
    "string_tfidf = tfidf[string_bow]\n",
    "print(string_tfidf)"
   ]
  },
  {
   "cell_type": "markdown",
   "metadata": {
    "id": "UCvbYK6CXyvl"
   },
   "source": [
    "## 3 使用 sklearn 算法包实现"
   ]
  },
  {
   "cell_type": "code",
   "execution_count": 22,
   "metadata": {
    "colab": {
     "base_uri": "https://localhost:8080/"
    },
    "id": "xG0nLvl5Xrox",
    "outputId": "41b5fa57-b7b4-4b5c-f878-76672232c168"
   },
   "outputs": [
    {
     "name": "stdout",
     "output_type": "stream",
     "text": [
      "['一个', '文档', '最后', '没有', '现在', '第一个', '第二个', '这是']\n",
      "{'第一个': 5, '文档': 1, '这是': 7, '第二个': 6, '最后': 2, '一个': 0, '现在': 4, '没有': 3}\n",
      "[[0.         0.46263733 0.         0.         0.         0.88654763\n",
      "  0.         0.        ]\n",
      " [0.         0.37919167 0.         0.         0.         0.\n",
      "  0.72664149 0.5728925 ]\n",
      " [0.58783765 0.30675807 0.58783765 0.         0.         0.\n",
      "  0.         0.46345796]\n",
      " [0.         0.34618161 0.         0.66338461 0.66338461 0.\n",
      "  0.         0.        ]]\n"
     ]
    }
   ],
   "source": [
    "from sklearn.feature_extraction.text import TfidfVectorizer\n",
    "tfidf_vec = TfidfVectorizer()\n",
    "tfidf_matrix = tfidf_vec.fit_transform(corpus)\n",
    "# 得到语料库所有不重复的词\n",
    "print(tfidf_vec.get_feature_names())\n",
    "# 得到每个单词对应的id值\n",
    "print(tfidf_vec.vocabulary_)\n",
    "# 得到每个句子所对应的向量，向量里数字的顺序是按照词语的id顺序来的\n",
    "print(tfidf_matrix.toarray())"
   ]
  },
  {
   "cell_type": "markdown",
   "metadata": {
    "id": "7yqG56PcYI-3"
   },
   "source": [
    "# 参考\n",
    "[1] https://zh.wikipedia.org/wiki/Tf-idf\n",
    "\n",
    "[2] https://blog.csdn.net/zrc199021/article/details/53728499\n",
    "\n",
    "[3] https://www.zybuluo.com/lianjizhe/note/1212780\n",
    "\n",
    "[4] https://zhuanlan.zhihu.com/p/97273457"
   ]
  }
 ],
 "metadata": {
  "colab": {
   "authorship_tag": "ABX9TyOaIOl62otAHl4BKDoOJ+Jc",
   "collapsed_sections": [],
   "include_colab_link": true,
   "name": "TF-IDF.ipynb",
   "provenance": []
  },
  "kernelspec": {
   "display_name": "bocm",
   "language": "python",
   "name": "bocm"
  },
  "language_info": {
   "codemirror_mode": {
    "name": "ipython",
    "version": 3
   },
   "file_extension": ".py",
   "mimetype": "text/x-python",
   "name": "python",
   "nbconvert_exporter": "python",
   "pygments_lexer": "ipython3",
   "version": "3.6.11"
  }
 },
 "nbformat": 4,
 "nbformat_minor": 4
}
