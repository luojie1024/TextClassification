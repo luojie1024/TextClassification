{
  "nbformat": 4,
  "nbformat_minor": 0,
  "metadata": {
    "colab": {
      "name": "loss_function",
      "provenance": [],
      "collapsed_sections": [],
      "authorship_tag": "ABX9TyOBeaCeblLPrVQVaeb5rjbK",
      "include_colab_link": true
    },
    "kernelspec": {
      "name": "python3",
      "display_name": "Python 3"
    },
    "language_info": {
      "name": "python"
    }
  },
  "cells": [
    {
      "cell_type": "markdown",
      "metadata": {
        "id": "view-in-github",
        "colab_type": "text"
      },
      "source": [
        "<a href=\"https://colab.research.google.com/github/luojie1024/TextClassification/blob/main/loss_function.ipynb\" target=\"_parent\"><img src=\"https://colab.research.google.com/assets/colab-badge.svg\" alt=\"Open In Colab\"/></a>"
      ]
    },
    {
      "cell_type": "markdown",
      "metadata": {
        "id": "EENAByhXVA8r"
      },
      "source": [
        "# 损失函数"
      ]
    },
    {
      "cell_type": "code",
      "metadata": {
        "id": "6Iw8c6thuFy3"
      },
      "source": [
        "import tensorflow as tf"
      ],
      "execution_count": 4,
      "outputs": []
    },
    {
      "cell_type": "markdown",
      "metadata": {
        "id": "_eO7LgHNtaWY"
      },
      "source": [
        "## binary_crossentropy loss计算"
      ]
    },
    {
      "cell_type": "code",
      "metadata": {
        "colab": {
          "base_uri": "https://localhost:8080/"
        },
        "id": "DwrRiMGatSK1",
        "outputId": "3475a289-67fc-45bf-adc9-c69ac09699e9"
      },
      "source": [
        "y_true = [[0, 1], [0, 0]]\n",
        "y_pred = [[0.6, 0.4], [0.4, 0.6]]\n",
        "loss = tf.keras.losses.binary_crossentropy(y_true, y_pred)\n",
        "assert loss.shape == (2,)\n",
        "loss.numpy()"
      ],
      "execution_count": 2,
      "outputs": [
        {
          "output_type": "execute_result",
          "data": {
            "text/plain": [
              "array([0.9162905 , 0.71355796], dtype=float32)"
            ]
          },
          "metadata": {
            "tags": []
          },
          "execution_count": 2
        }
      ]
    },
    {
      "cell_type": "markdown",
      "metadata": {
        "id": "U4gcttaMpnSV"
      },
      "source": [
        "## categorical_crossentropy loss 计算"
      ]
    },
    {
      "cell_type": "code",
      "metadata": {
        "colab": {
          "base_uri": "https://localhost:8080/"
        },
        "id": "rQZTtKuSprVv",
        "outputId": "bfb0d90d-c36b-4302-e638-45c5e863c611"
      },
      "source": [
        "y_true = [[0, 1, 0], [0, 0, 1]]\n",
        "y_pred = [[0.05, 0.95, 0], [0.1, 0.8, 0.1]]\n",
        "loss = tf.keras.losses.categorical_crossentropy(y_true, y_pred)\n",
        "assert loss.shape == (2,)\n",
        "loss.numpy()"
      ],
      "execution_count": 3,
      "outputs": [
        {
          "output_type": "execute_result",
          "data": {
            "text/plain": [
              "array([0.05129331, 2.3025851 ], dtype=float32)"
            ]
          },
          "metadata": {
            "tags": []
          },
          "execution_count": 3
        }
      ]
    },
    {
      "cell_type": "markdown",
      "metadata": {
        "id": "7yqG56PcYI-3"
      },
      "source": [
        "# 参考\n",
        "[1] https://www.tensorflow.org/api_docs/python/tf/keras/losses/categorical_crossentropy\n",
        "\n",
        "[2] https://www.tensorflow.org/api_docs/python/tf/keras/losses/binary_crossentropy\n"
      ]
    }
  ]
}