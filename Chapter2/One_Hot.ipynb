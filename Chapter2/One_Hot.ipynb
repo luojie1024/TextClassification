{
 "cells": [
  {
   "cell_type": "markdown",
   "metadata": {
    "colab_type": "text",
    "id": "view-in-github"
   },
   "source": [
    "<a href=\"https://colab.research.google.com/github/luojie1024/TextClassification/blob/main/One_Hot.ipynb\" target=\"_parent\"><img src=\"https://colab.research.google.com/assets/colab-badge.svg\" alt=\"Open In Colab\"/></a>"
   ]
  },
  {
   "cell_type": "markdown",
   "metadata": {
    "id": "EENAByhXVA8r"
   },
   "source": [
    "# 独热编码(One-Hot)"
   ]
  },
  {
   "cell_type": "code",
   "execution_count": 14,
   "metadata": {
    "id": "WesbqIx1iKYL"
   },
   "outputs": [],
   "source": [
    "import numpy as np"
   ]
  },
  {
   "cell_type": "markdown",
   "metadata": {
    "id": "qxuk3H4VWirh"
   },
   "source": [
    "## 0 语料准备"
   ]
  },
  {
   "cell_type": "code",
   "execution_count": 30,
   "metadata": {
    "id": "lf5VZLFYVGhP"
   },
   "outputs": [],
   "source": [
    "# 语料\n",
    "corpus = ['这 是 第一个 文档',\n",
    "        '这是 第二个 文档',\n",
    "        '这是 最后 一个 文档',\n",
    "        '现在 没有 文档 了']"
   ]
  },
  {
   "cell_type": "markdown",
   "metadata": {
    "id": "Udh3546TjlFJ"
   },
   "source": [
    "## 1. 手动实现（One-Hot）"
   ]
  },
  {
   "cell_type": "code",
   "execution_count": 103,
   "metadata": {
    "colab": {
     "base_uri": "https://localhost:8080/"
    },
    "id": "bH4-l595joz8",
    "outputId": "8fe68d8c-462a-43ff-983f-d99b974557d7"
   },
   "outputs": [
    {
     "name": "stdout",
     "output_type": "stream",
     "text": [
      "{'没有': 0, '文档': 1, '一个': 2, '现在': 3, '这': 4, '最后': 5, '这是': 6, '了': 7, '是': 8, '第一个': 9, '第二个': 10}\n"
     ]
    }
   ],
   "source": [
    "# 词袋\n",
    "words=[]\n",
    "for corpu in corpus:\n",
    "  words.extend(corpu.split())\n",
    "\n",
    "# 词的列表\n",
    "word_list=list(set(words))\n",
    "# 字典\n",
    "word_dct= {word:index for index,word in enumerate(word_list)}\n",
    "# 词典大小\n",
    "vocab_size=len(word_dct)\n",
    "print(word_dct)"
   ]
  },
  {
   "cell_type": "code",
   "execution_count": 104,
   "metadata": {
    "id": "e11xGDmXhxlf"
   },
   "outputs": [],
   "source": [
    "def get_one_hot(index):\n",
    "  \"\"\"\n",
    "  获得one hot编码\n",
    "  \"\"\"\n",
    "  # 初始化全0列表\n",
    "  one_hot=[0 for i in range(vocab_size)]\n",
    "  # 标记对应位置为1\n",
    "  one_hot[index]=1\n",
    "  # 将列表转换成矩阵\n",
    "  return np.array(one_hot)"
   ]
  },
  {
   "cell_type": "code",
   "execution_count": 105,
   "metadata": {
    "colab": {
     "base_uri": "https://localhost:8080/"
    },
    "id": "dau0VyyyiPHv",
    "outputId": "99ec6a88-2bff-41e6-c12d-be809f78d989"
   },
   "outputs": [
    {
     "data": {
      "text/plain": [
       "array([0, 1, 0, 0, 0, 0, 0, 0, 0, 0, 0])"
      ]
     },
     "execution_count": 105,
     "metadata": {
      "tags": []
     },
     "output_type": "execute_result"
    }
   ],
   "source": [
    "get_one_hot(1)"
   ]
  },
  {
   "cell_type": "markdown",
   "metadata": {
    "id": "NVsQyxQ3kJTV"
   },
   "source": [
    "### 原始句子"
   ]
  },
  {
   "cell_type": "code",
   "execution_count": 106,
   "metadata": {
    "colab": {
     "base_uri": "https://localhost:8080/",
     "height": 35
    },
    "id": "fSIFpNclkChD",
    "outputId": "714a5d35-bc85-4a07-9324-cf1a7f80e416"
   },
   "outputs": [
    {
     "data": {
      "application/vnd.google.colaboratory.intrinsic+json": {
       "type": "string"
      },
      "text/plain": [
       "'这 是 第一个 文档'"
      ]
     },
     "execution_count": 106,
     "metadata": {
      "tags": []
     },
     "output_type": "execute_result"
    }
   ],
   "source": [
    "corpus[0]"
   ]
  },
  {
   "cell_type": "markdown",
   "metadata": {
    "id": "MYdciEVDkF4S"
   },
   "source": [
    "### 转换成索引"
   ]
  },
  {
   "cell_type": "code",
   "execution_count": 107,
   "metadata": {
    "colab": {
     "base_uri": "https://localhost:8080/"
    },
    "id": "g-s6A0kKjzdS",
    "outputId": "5822f812-bbbd-44a7-94fb-478ac1bc4e2c"
   },
   "outputs": [
    {
     "data": {
      "text/plain": [
       "[4, 8, 9, 1]"
      ]
     },
     "execution_count": 107,
     "metadata": {
      "tags": []
     },
     "output_type": "execute_result"
    }
   ],
   "source": [
    "indexs=[word_dct[i] for i in corpus[0].split()]\n",
    "indexs"
   ]
  },
  {
   "cell_type": "markdown",
   "metadata": {
    "id": "O2TBNxTskLUC"
   },
   "source": [
    "### 句子-> 索引 ->one hot"
   ]
  },
  {
   "cell_type": "code",
   "execution_count": 108,
   "metadata": {
    "colab": {
     "base_uri": "https://localhost:8080/"
    },
    "id": "vZguV-IPjwlT",
    "outputId": "c80f8278-97fc-4b7f-d431-fe0102e76fea"
   },
   "outputs": [
    {
     "data": {
      "text/plain": [
       "array([[0, 0, 0, 0, 1, 0, 0, 0, 0, 0, 0],\n",
       "       [0, 0, 0, 0, 0, 0, 0, 0, 1, 0, 0],\n",
       "       [0, 0, 0, 0, 0, 0, 0, 0, 0, 1, 0],\n",
       "       [0, 1, 0, 0, 0, 0, 0, 0, 0, 0, 0]])"
      ]
     },
     "execution_count": 108,
     "metadata": {
      "tags": []
     },
     "output_type": "execute_result"
    }
   ],
   "source": [
    "one_hot_list=np.array([get_one_hot(index) for index in indexs])\n",
    "one_hot_list"
   ]
  },
  {
   "cell_type": "markdown",
   "metadata": {
    "id": "fIMjfr95VotT"
   },
   "source": [
    "## 2 . Sklearn实现"
   ]
  },
  {
   "cell_type": "code",
   "execution_count": 109,
   "metadata": {
    "id": "RpFQb9AIkzdZ"
   },
   "outputs": [],
   "source": [
    "from sklearn.preprocessing import OneHotEncoder,LabelBinarizer"
   ]
  },
  {
   "cell_type": "markdown",
   "metadata": {
    "id": "DxwltGC4tjsu"
   },
   "source": [
    "### 初始化编码器"
   ]
  },
  {
   "cell_type": "code",
   "execution_count": 120,
   "metadata": {
    "id": "5yLNRt2zsb6B"
   },
   "outputs": [],
   "source": [
    "lb = LabelBinarizer()\n",
    "lb.fit(word_list)\n",
    "# lb.classes_=np.array(word_list)\n",
    "lb.classes_"
   ]
  },
  {
   "cell_type": "markdown",
   "metadata": {
    "id": "HEvU16TwtBsg"
   },
   "source": [
    "### 原始句子"
   ]
  },
  {
   "cell_type": "code",
   "execution_count": 121,
   "metadata": {
    "colab": {
     "base_uri": "https://localhost:8080/"
    },
    "id": "Y-gEreSSszmB",
    "outputId": "da725304-bd9d-4181-f84b-e379d9216bda"
   },
   "outputs": [
    {
     "data": {
      "text/plain": [
       "['这', '是', '第一个', '文档']"
      ]
     },
     "execution_count": 121,
     "metadata": {
      "tags": []
     },
     "output_type": "execute_result"
    }
   ],
   "source": [
    "sentence=corpus[0].split()\n",
    "sentence"
   ]
  },
  {
   "cell_type": "markdown",
   "metadata": {
    "id": "_JbJRaVvtHQN"
   },
   "source": [
    "### 编码（词列表-> one hot）"
   ]
  },
  {
   "cell_type": "code",
   "execution_count": 122,
   "metadata": {
    "colab": {
     "base_uri": "https://localhost:8080/"
    },
    "id": "Semkt4qusTl-",
    "outputId": "71319800-7763-4d41-c888-4f2b2f169755"
   },
   "outputs": [
    {
     "data": {
      "text/plain": [
       "array([[0, 0, 0, 0, 1, 0, 0, 0, 0, 0, 0],\n",
       "       [0, 0, 0, 0, 0, 0, 0, 0, 1, 0, 0],\n",
       "       [0, 0, 0, 0, 0, 0, 0, 0, 0, 1, 0],\n",
       "       [0, 1, 0, 0, 0, 0, 0, 0, 0, 0, 0]])"
      ]
     },
     "execution_count": 122,
     "metadata": {
      "tags": []
     },
     "output_type": "execute_result"
    }
   ],
   "source": [
    "encode_sentence=lb.transform(sentence)\n",
    "encode_sentence"
   ]
  },
  {
   "cell_type": "markdown",
   "metadata": {
    "id": "zPv09_Rutfar"
   },
   "source": [
    "### 解码（one hot->词列表）"
   ]
  },
  {
   "cell_type": "code",
   "execution_count": 114,
   "metadata": {
    "colab": {
     "base_uri": "https://localhost:8080/"
    },
    "id": "cg_GvPFplq-T",
    "outputId": "13382c7a-af6b-435e-eec3-02051c6d14d5"
   },
   "outputs": [
    {
     "data": {
      "text/plain": [
       "array(['这', '是', '第一个', '文档'], dtype='<U3')"
      ]
     },
     "execution_count": 114,
     "metadata": {
      "tags": []
     },
     "output_type": "execute_result"
    }
   ],
   "source": [
    "lb.inverse_transform(encode_sentence)"
   ]
  },
  {
   "cell_type": "markdown",
   "metadata": {
    "id": "7yqG56PcYI-3"
   },
   "source": [
    "# 参考\n",
    "[1] [Sklearn官方文档](https://scikit-learn.org/stable/modules/generated/sklearn.preprocessing.LabelBinarizer.html#sklearn.preprocessing.LabelBinarizer)"
   ]
  }
 ],
 "metadata": {
  "colab": {
   "authorship_tag": "ABX9TyMVe231E7kZZVsNa0Z9Jf5m",
   "collapsed_sections": [],
   "include_colab_link": true,
   "name": "One-Hot.ipynb",
   "provenance": []
  },
  "kernelspec": {
   "display_name": "Python 3",
   "language": "python",
   "name": "python3"
  },
  "language_info": {
   "codemirror_mode": {
    "name": "ipython",
    "version": 3
   },
   "file_extension": ".py",
   "mimetype": "text/x-python",
   "name": "python",
   "nbconvert_exporter": "python",
   "pygments_lexer": "ipython3",
   "version": "3.7.4"
  }
 },
 "nbformat": 4,
 "nbformat_minor": 4
}
