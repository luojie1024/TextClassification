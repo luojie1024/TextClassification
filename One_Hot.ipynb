{
  "nbformat": 4,
  "nbformat_minor": 0,
  "metadata": {
    "colab": {
      "name": "One-Hot.ipynb",
      "provenance": [],
      "collapsed_sections": [],
      "authorship_tag": "ABX9TyMVe231E7kZZVsNa0Z9Jf5m",
      "include_colab_link": true
    },
    "kernelspec": {
      "name": "python3",
      "display_name": "Python 3"
    },
    "language_info": {
      "name": "python"
    }
  },
  "cells": [
    {
      "cell_type": "markdown",
      "metadata": {
        "id": "view-in-github",
        "colab_type": "text"
      },
      "source": [
        "<a href=\"https://colab.research.google.com/github/luojie1024/TextClassification/blob/main/One_Hot.ipynb\" target=\"_parent\"><img src=\"https://colab.research.google.com/assets/colab-badge.svg\" alt=\"Open In Colab\"/></a>"
      ]
    },
    {
      "cell_type": "markdown",
      "metadata": {
        "id": "EENAByhXVA8r"
      },
      "source": [
        "# 独热编码(One-Hot)"
      ]
    },
    {
      "cell_type": "code",
      "metadata": {
        "id": "WesbqIx1iKYL"
      },
      "source": [
        "import numpy as np"
      ],
      "execution_count": 14,
      "outputs": []
    },
    {
      "cell_type": "markdown",
      "metadata": {
        "id": "qxuk3H4VWirh"
      },
      "source": [
        "## 0 语料准备"
      ]
    },
    {
      "cell_type": "code",
      "metadata": {
        "id": "lf5VZLFYVGhP"
      },
      "source": [
        "# 语料\n",
        "corpus = ['这 是 第一个 文档',\n",
        "        '这是 第二个 文档',\n",
        "        '这是 最后 一个 文档',\n",
        "        '现在 没有 文档 了']"
      ],
      "execution_count": 30,
      "outputs": []
    },
    {
      "cell_type": "markdown",
      "metadata": {
        "id": "Udh3546TjlFJ"
      },
      "source": [
        "## 1. 手动实现（One-Hot）"
      ]
    },
    {
      "cell_type": "code",
      "metadata": {
        "colab": {
          "base_uri": "https://localhost:8080/"
        },
        "id": "bH4-l595joz8",
        "outputId": "8fe68d8c-462a-43ff-983f-d99b974557d7"
      },
      "source": [
        "# 词袋\n",
        "words=[]\n",
        "for corpu in corpus:\n",
        "  words.extend(corpu.split())\n",
        "\n",
        "# 词的列表\n",
        "word_list=list(set(words))\n",
        "# 字典\n",
        "word_dct= {word:index for index,word in enumerate(word_list)}\n",
        "# 词典大小\n",
        "vocab_size=len(word_dct)\n",
        "print(word_dct)"
      ],
      "execution_count": 103,
      "outputs": [
        {
          "output_type": "stream",
          "text": [
            "{'没有': 0, '文档': 1, '一个': 2, '现在': 3, '这': 4, '最后': 5, '这是': 6, '了': 7, '是': 8, '第一个': 9, '第二个': 10}\n"
          ],
          "name": "stdout"
        }
      ]
    },
    {
      "cell_type": "code",
      "metadata": {
        "id": "e11xGDmXhxlf"
      },
      "source": [
        "def get_one_hot(index):\n",
        "  \"\"\"\n",
        "  获得one hot编码\n",
        "  \"\"\"\n",
        "  # 初始化全0列表\n",
        "  one_hot=[0 for i in range(vocab_size)]\n",
        "  # 标记对应位置为1\n",
        "  one_hot[index]=1\n",
        "  # 将列表转换成矩阵\n",
        "  return np.array(one_hot)"
      ],
      "execution_count": 104,
      "outputs": []
    },
    {
      "cell_type": "code",
      "metadata": {
        "colab": {
          "base_uri": "https://localhost:8080/"
        },
        "id": "dau0VyyyiPHv",
        "outputId": "99ec6a88-2bff-41e6-c12d-be809f78d989"
      },
      "source": [
        "get_one_hot(1)"
      ],
      "execution_count": 105,
      "outputs": [
        {
          "output_type": "execute_result",
          "data": {
            "text/plain": [
              "array([0, 1, 0, 0, 0, 0, 0, 0, 0, 0, 0])"
            ]
          },
          "metadata": {
            "tags": []
          },
          "execution_count": 105
        }
      ]
    },
    {
      "cell_type": "markdown",
      "metadata": {
        "id": "NVsQyxQ3kJTV"
      },
      "source": [
        "### 原始句子"
      ]
    },
    {
      "cell_type": "code",
      "metadata": {
        "colab": {
          "base_uri": "https://localhost:8080/",
          "height": 35
        },
        "id": "fSIFpNclkChD",
        "outputId": "714a5d35-bc85-4a07-9324-cf1a7f80e416"
      },
      "source": [
        "corpus[0]"
      ],
      "execution_count": 106,
      "outputs": [
        {
          "output_type": "execute_result",
          "data": {
            "application/vnd.google.colaboratory.intrinsic+json": {
              "type": "string"
            },
            "text/plain": [
              "'这 是 第一个 文档'"
            ]
          },
          "metadata": {
            "tags": []
          },
          "execution_count": 106
        }
      ]
    },
    {
      "cell_type": "markdown",
      "metadata": {
        "id": "MYdciEVDkF4S"
      },
      "source": [
        "### 转换成索引"
      ]
    },
    {
      "cell_type": "code",
      "metadata": {
        "colab": {
          "base_uri": "https://localhost:8080/"
        },
        "id": "g-s6A0kKjzdS",
        "outputId": "5822f812-bbbd-44a7-94fb-478ac1bc4e2c"
      },
      "source": [
        "indexs=[word_dct[i] for i in corpus[0].split()]\n",
        "indexs"
      ],
      "execution_count": 107,
      "outputs": [
        {
          "output_type": "execute_result",
          "data": {
            "text/plain": [
              "[4, 8, 9, 1]"
            ]
          },
          "metadata": {
            "tags": []
          },
          "execution_count": 107
        }
      ]
    },
    {
      "cell_type": "markdown",
      "metadata": {
        "id": "O2TBNxTskLUC"
      },
      "source": [
        "### 句子-> 索引 ->one hot"
      ]
    },
    {
      "cell_type": "code",
      "metadata": {
        "colab": {
          "base_uri": "https://localhost:8080/"
        },
        "id": "vZguV-IPjwlT",
        "outputId": "c80f8278-97fc-4b7f-d431-fe0102e76fea"
      },
      "source": [
        "one_hot_list=np.array([get_one_hot(index) for index in indexs])\n",
        "one_hot_list"
      ],
      "execution_count": 108,
      "outputs": [
        {
          "output_type": "execute_result",
          "data": {
            "text/plain": [
              "array([[0, 0, 0, 0, 1, 0, 0, 0, 0, 0, 0],\n",
              "       [0, 0, 0, 0, 0, 0, 0, 0, 1, 0, 0],\n",
              "       [0, 0, 0, 0, 0, 0, 0, 0, 0, 1, 0],\n",
              "       [0, 1, 0, 0, 0, 0, 0, 0, 0, 0, 0]])"
            ]
          },
          "metadata": {
            "tags": []
          },
          "execution_count": 108
        }
      ]
    },
    {
      "cell_type": "markdown",
      "metadata": {
        "id": "fIMjfr95VotT"
      },
      "source": [
        "## 2 . Sklearn实现"
      ]
    },
    {
      "cell_type": "code",
      "metadata": {
        "id": "RpFQb9AIkzdZ"
      },
      "source": [
        "from sklearn.preprocessing import OneHotEncoder,LabelBinarizer"
      ],
      "execution_count": 109,
      "outputs": []
    },
    {
      "cell_type": "markdown",
      "metadata": {
        "id": "DxwltGC4tjsu"
      },
      "source": [
        "### 初始化编码器"
      ]
    },
    {
      "cell_type": "code",
      "metadata": {
        "id": "5yLNRt2zsb6B"
      },
      "source": [
        "lb = LabelBinarizer()\n",
        "lb.fit(word_list)\n",
        "# lb.classes_=np.array(word_list)\n",
        "lb.classes_"
      ],
      "execution_count": 120,
      "outputs": []
    },
    {
      "cell_type": "markdown",
      "metadata": {
        "id": "HEvU16TwtBsg"
      },
      "source": [
        "### 原始句子"
      ]
    },
    {
      "cell_type": "code",
      "metadata": {
        "colab": {
          "base_uri": "https://localhost:8080/"
        },
        "id": "Y-gEreSSszmB",
        "outputId": "da725304-bd9d-4181-f84b-e379d9216bda"
      },
      "source": [
        "sentence=corpus[0].split()\n",
        "sentence"
      ],
      "execution_count": 121,
      "outputs": [
        {
          "output_type": "execute_result",
          "data": {
            "text/plain": [
              "['这', '是', '第一个', '文档']"
            ]
          },
          "metadata": {
            "tags": []
          },
          "execution_count": 121
        }
      ]
    },
    {
      "cell_type": "markdown",
      "metadata": {
        "id": "_JbJRaVvtHQN"
      },
      "source": [
        "### 编码（词列表-> one hot）"
      ]
    },
    {
      "cell_type": "code",
      "metadata": {
        "colab": {
          "base_uri": "https://localhost:8080/"
        },
        "id": "Semkt4qusTl-",
        "outputId": "71319800-7763-4d41-c888-4f2b2f169755"
      },
      "source": [
        "encode_sentence=lb.transform(sentence)\n",
        "encode_sentence"
      ],
      "execution_count": 122,
      "outputs": [
        {
          "output_type": "execute_result",
          "data": {
            "text/plain": [
              "array([[0, 0, 0, 0, 1, 0, 0, 0, 0, 0, 0],\n",
              "       [0, 0, 0, 0, 0, 0, 0, 0, 1, 0, 0],\n",
              "       [0, 0, 0, 0, 0, 0, 0, 0, 0, 1, 0],\n",
              "       [0, 1, 0, 0, 0, 0, 0, 0, 0, 0, 0]])"
            ]
          },
          "metadata": {
            "tags": []
          },
          "execution_count": 122
        }
      ]
    },
    {
      "cell_type": "markdown",
      "metadata": {
        "id": "zPv09_Rutfar"
      },
      "source": [
        "### 解码（one hot->词列表）"
      ]
    },
    {
      "cell_type": "code",
      "metadata": {
        "colab": {
          "base_uri": "https://localhost:8080/"
        },
        "id": "cg_GvPFplq-T",
        "outputId": "13382c7a-af6b-435e-eec3-02051c6d14d5"
      },
      "source": [
        "lb.inverse_transform(encode_sentence)"
      ],
      "execution_count": 114,
      "outputs": [
        {
          "output_type": "execute_result",
          "data": {
            "text/plain": [
              "array(['这', '是', '第一个', '文档'], dtype='<U3')"
            ]
          },
          "metadata": {
            "tags": []
          },
          "execution_count": 114
        }
      ]
    },
    {
      "cell_type": "markdown",
      "metadata": {
        "id": "7yqG56PcYI-3"
      },
      "source": [
        "# 参考\n",
        "[1] [Sklearn官方文档](https://scikit-learn.org/stable/modules/generated/sklearn.preprocessing.LabelBinarizer.html#sklearn.preprocessing.LabelBinarizer)"
      ]
    }
  ]
}